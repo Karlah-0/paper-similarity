{
  "cells": [
    {
      "cell_type": "markdown",
      "metadata": {},
      "source": [
        "# Text Vectorization\n",
        "## PubMed"
      ]
    },
    {
      "cell_type": "code",
      "execution_count": 1,
      "metadata": {
        "id": "vD3qWyvypKaq"
      },
      "outputs": [],
      "source": [
        "from sklearn.feature_extraction.text import CountVectorizer, TfidfVectorizer\n",
        "import pandas as pd\n",
        "import pickle\n",
        "import os\n",
        "\n",
        "archivoEntrada = \"../normalization/pubmed_normalized_corpus.csv\"\n",
        "directorioSalida = \"PubMed\"\n",
        "os.makedirs(directorioSalida, exist_ok=True)\n",
        "\n",
        "datosPubmed = pd.read_csv(archivoEntrada)\n",
        "patronToken = r'(?u)\\w+|[^\\w\\s]'\n",
        "columnasTexto = ['Title', 'Abstract']\n",
        "\n",
        "for columna in columnasTexto:\n",
        "    textos = datosPubmed[columna].fillna(\"\").astype(str).tolist()\n",
        "\n",
        "    vectorizadorFreqUni = CountVectorizer(token_pattern=patronToken, ngram_range=(1, 1))\n",
        "    matrizFreqUni = vectorizadorFreqUni.fit_transform(textos)\n",
        "    with open(f'./{directorioSalida}/pubmed_{columna}_frecuencia_unigramas.pkl', 'wb') as f:\n",
        "        pickle.dump(matrizFreqUni, f)\n",
        "    with open(f'./{directorioSalida}/pubmed_{columna}_vectorizador_frecuencia_unigramas.pkl', 'wb') as f:\n",
        "        pickle.dump(vectorizadorFreqUni, f)\n",
        "\n",
        "    vectorizadorFreqBi = CountVectorizer(token_pattern=patronToken, ngram_range=(2, 2))\n",
        "    matrizFreqBi = vectorizadorFreqBi.fit_transform(textos)\n",
        "    with open(f'./{directorioSalida}/pubmed_{columna}_frecuencia_bigramas.pkl', 'wb') as f:\n",
        "        pickle.dump(matrizFreqBi, f)\n",
        "    with open(f'./{directorioSalida}/pubmed_{columna}_vectorizador_frecuencia_bigramas.pkl', 'wb') as f:\n",
        "        pickle.dump(vectorizadorFreqBi, f)\n",
        "\n",
        "    vectorizadorBinUni = CountVectorizer(binary=True, token_pattern=patronToken, ngram_range=(1, 1))\n",
        "    matrizBinUni = vectorizadorBinUni.fit_transform(textos)\n",
        "    with open(f'./{directorioSalida}/pubmed_{columna}_binaria_unigramas.pkl', 'wb') as f:\n",
        "        pickle.dump(matrizBinUni, f)\n",
        "    with open(f'./{directorioSalida}/pubmed_{columna}_vectorizador_binaria_unigramas.pkl', 'wb') as f:\n",
        "        pickle.dump(vectorizadorBinUni, f)\n",
        "\n",
        "    vectorizadorBinBi = CountVectorizer(binary=True, token_pattern=patronToken, ngram_range=(2, 2))\n",
        "    matrizBinBi = vectorizadorBinBi.fit_transform(textos)\n",
        "    with open(f'./{directorioSalida}/pubmed_{columna}_binaria_bigramas.pkl', 'wb') as f:\n",
        "        pickle.dump(matrizBinBi, f)\n",
        "    with open(f'./{directorioSalida}/pubmed_{columna}_vectorizador_binaria_bigramas.pkl', 'wb') as f:\n",
        "        pickle.dump(vectorizadorBinBi, f)\n",
        "\n",
        "    vectorizadorTfidfUni = TfidfVectorizer(token_pattern=patronToken, ngram_range=(1, 1))\n",
        "    matrizTfidfUni = vectorizadorTfidfUni.fit_transform(textos)\n",
        "    with open(f'./{directorioSalida}/pubmed_{columna}_tfidf_unigramas.pkl', 'wb') as f:\n",
        "        pickle.dump(matrizTfidfUni, f)\n",
        "    with open(f'./{directorioSalida}/pubmed_{columna}_vectorizador_tfidf_unigramas.pkl', 'wb') as f:\n",
        "        pickle.dump(vectorizadorTfidfUni, f)\n",
        "\n",
        "    vectorizadorTfidfBi = TfidfVectorizer(token_pattern=patronToken, ngram_range=(2, 2))\n",
        "    matrizTfidfBi = vectorizadorTfidfBi.fit_transform(textos)\n",
        "    with open(f'./{directorioSalida}/pubmed_{columna}_tfidf_bigramas.pkl', 'wb') as f:\n",
        "        pickle.dump(matrizTfidfBi, f)\n",
        "    with open(f'./{directorioSalida}/pubmed_{columna}_vectorizador_tfidf_bigramas.pkl', 'wb') as f:\n",
        "        pickle.dump(vectorizadorTfidfBi, f)\n"
      ]
    },
    {
      "cell_type": "markdown",
      "metadata": {},
      "source": [
        "## ArXiv"
      ]
    },
    {
      "cell_type": "code",
      "execution_count": 2,
      "metadata": {
        "id": "sLd1-NIxqCK-"
      },
      "outputs": [],
      "source": [
        "from sklearn.feature_extraction.text import CountVectorizer, TfidfVectorizer\n",
        "import pandas as pd\n",
        "import pickle\n",
        "import os\n",
        "\n",
        "archivoEntrada = \"../normalization/arxiv_normalized_corpus.csv\"\n",
        "directorioSalida = \"ArXiv\"\n",
        "os.makedirs(directorioSalida, exist_ok=True)\n",
        "\n",
        "datosArxiv = pd.read_csv(archivoEntrada)\n",
        "patronToken = r'(?u)\\w+|[^\\w\\s]'\n",
        "columnasTexto = ['Title', 'Abstract']\n",
        "\n",
        "for columna in columnasTexto:\n",
        "    textos = datosArxiv[columna].fillna(\"\").astype(str).tolist()\n",
        "\n",
        "    vectorizadorFreqUni = CountVectorizer(token_pattern=patronToken, ngram_range=(1, 1))\n",
        "    matrizFreqUni = vectorizadorFreqUni.fit_transform(textos)\n",
        "    with open(f'./{directorioSalida}/arxiv_{columna}_frecuencia_unigramas.pkl', 'wb') as f:\n",
        "        pickle.dump(matrizFreqUni, f)\n",
        "    with open(f'./{directorioSalida}/arxiv_{columna}_vectorizador_frecuencia_unigramas.pkl', 'wb') as f:\n",
        "        pickle.dump(vectorizadorFreqUni, f)\n",
        "\n",
        "    vectorizadorFreqBi = CountVectorizer(token_pattern=patronToken, ngram_range=(2, 2))\n",
        "    matrizFreqBi = vectorizadorFreqBi.fit_transform(textos)\n",
        "    with open(f'./{directorioSalida}/arxiv_{columna}_frecuencia_bigramas.pkl', 'wb') as f:\n",
        "        pickle.dump(matrizFreqBi, f)\n",
        "    with open(f'./{directorioSalida}/arxiv_{columna}_vectorizador_frecuencia_bigramas.pkl', 'wb') as f:\n",
        "        pickle.dump(vectorizadorFreqBi, f)\n",
        "\n",
        "    vectorizadorBinUni = CountVectorizer(binary=True, token_pattern=patronToken, ngram_range=(1, 1))\n",
        "    matrizBinUni = vectorizadorBinUni.fit_transform(textos)\n",
        "    with open(f'./{directorioSalida}/arxiv_{columna}_binaria_unigramas.pkl', 'wb') as f:\n",
        "        pickle.dump(matrizBinUni, f)\n",
        "    with open(f'./{directorioSalida}/arxiv_{columna}_vectorizador_binaria_unigramas.pkl', 'wb') as f:\n",
        "        pickle.dump(vectorizadorBinUni, f)\n",
        "\n",
        "    vectorizadorBinBi = CountVectorizer(binary=True, token_pattern=patronToken, ngram_range=(2, 2))\n",
        "    matrizBinBi = vectorizadorBinBi.fit_transform(textos)\n",
        "    with open(f'./{directorioSalida}/arxiv_{columna}_binaria_bigramas.pkl', 'wb') as f:\n",
        "        pickle.dump(matrizBinBi, f)\n",
        "    with open(f'./{directorioSalida}/arxiv_{columna}_vectorizador_binaria_bigramas.pkl', 'wb') as f:\n",
        "        pickle.dump(vectorizadorBinBi, f)\n",
        "\n",
        "    vectorizadorTfidfUni = TfidfVectorizer(token_pattern=patronToken, ngram_range=(1, 1))\n",
        "    matrizTfidfUni = vectorizadorTfidfUni.fit_transform(textos)\n",
        "    with open(f'./{directorioSalida}/arxiv_{columna}_tfidf_unigramas.pkl', 'wb') as f:\n",
        "        pickle.dump(matrizTfidfUni, f)\n",
        "    with open(f'./{directorioSalida}/arxiv_{columna}_vectorizador_tfidf_unigramas.pkl', 'wb') as f:\n",
        "        pickle.dump(vectorizadorTfidfUni, f)\n",
        "\n",
        "    vectorizadorTfidfBi = TfidfVectorizer(token_pattern=patronToken, ngram_range=(2, 2))\n",
        "    matrizTfidfBi = vectorizadorTfidfBi.fit_transform(textos)\n",
        "    with open(f'./{directorioSalida}/arxiv_{columna}_tfidf_bigramas.pkl', 'wb') as f:\n",
        "        pickle.dump(matrizTfidfBi, f)\n",
        "    with open(f'./{directorioSalida}/arxiv_{columna}_vectorizador_tfidf_bigramas.pkl', 'wb') as f:\n",
        "        pickle.dump(vectorizadorTfidfBi, f)\n"
      ]
    }
  ],
  "metadata": {
    "colab": {
      "provenance": []
    },
    "kernelspec": {
      "display_name": "Python 3",
      "name": "python3"
    },
    "language_info": {
      "codemirror_mode": {
        "name": "ipython",
        "version": 3
      },
      "file_extension": ".py",
      "mimetype": "text/x-python",
      "name": "python",
      "nbconvert_exporter": "python",
      "pygments_lexer": "ipython3",
      "version": "3.12.9"
    }
  },
  "nbformat": 4,
  "nbformat_minor": 0
}
